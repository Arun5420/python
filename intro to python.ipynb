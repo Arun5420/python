{
 "cells": [
  {
   "cell_type": "code",
   "execution_count": 1,
   "id": "d5d3a725",
   "metadata": {},
   "outputs": [
    {
     "name": "stdout",
     "output_type": "stream",
     "text": [
      "hello world\n"
     ]
    }
   ],
   "source": [
    "print (\"hello world\")"
   ]
  },
  {
   "cell_type": "code",
   "execution_count": 2,
   "id": "b5c005e0",
   "metadata": {},
   "outputs": [
    {
     "name": "stdout",
     "output_type": "stream",
     "text": [
      " my name is arun\n"
     ]
    }
   ],
   "source": [
    "print (\" my name is arun\")"
   ]
  },
  {
   "cell_type": "code",
   "execution_count": 3,
   "id": "a88b12b0",
   "metadata": {},
   "outputs": [
    {
     "ename": "NameError",
     "evalue": "name 'Print' is not defined",
     "output_type": "error",
     "traceback": [
      "\u001b[1;31m---------------------------------------------------------------------------\u001b[0m",
      "\u001b[1;31mNameError\u001b[0m                                 Traceback (most recent call last)",
      "\u001b[1;32m~\\AppData\\Local\\Temp\\ipykernel_20376\\497229575.py\u001b[0m in \u001b[0;36m<module>\u001b[1;34m\u001b[0m\n\u001b[1;32m----> 1\u001b[1;33m \u001b[0mPrint\u001b[0m\u001b[1;33m(\u001b[0m\u001b[1;34m\"arun\"\u001b[0m\u001b[1;33m)\u001b[0m\u001b[1;33m\u001b[0m\u001b[1;33m\u001b[0m\u001b[0m\n\u001b[0m",
      "\u001b[1;31mNameError\u001b[0m: name 'Print' is not defined"
     ]
    }
   ],
   "source": [
    "Print(\"arun\")"
   ]
  },
  {
   "cell_type": "code",
   "execution_count": 5,
   "id": "98caaea8",
   "metadata": {},
   "outputs": [],
   "source": [
    "### python is case sensitive"
   ]
  },
  {
   "cell_type": "markdown",
   "id": "e0d5d3fc",
   "metadata": {},
   "source": [
    "### python is case sensitive"
   ]
  },
  {
   "cell_type": "markdown",
   "id": "0e97fdb8",
   "metadata": {},
   "source": [
    "##### python is case sensitive"
   ]
  },
  {
   "cell_type": "markdown",
   "id": "9e8ef9ca",
   "metadata": {},
   "source": [
    "## ok\n"
   ]
  },
  {
   "cell_type": "code",
   "execution_count": 6,
   "id": "bc12aa79",
   "metadata": {},
   "outputs": [
    {
     "ename": "NameError",
     "evalue": "name 'arun' is not defined",
     "output_type": "error",
     "traceback": [
      "\u001b[1;31m---------------------------------------------------------------------------\u001b[0m",
      "\u001b[1;31mNameError\u001b[0m                                 Traceback (most recent call last)",
      "\u001b[1;32m~\\AppData\\Local\\Temp\\ipykernel_20376\\429044984.py\u001b[0m in \u001b[0;36m<module>\u001b[1;34m\u001b[0m\n\u001b[1;32m----> 1\u001b[1;33m \u001b[0mprint\u001b[0m\u001b[1;33m(\u001b[0m\u001b[0marun\u001b[0m\u001b[1;33m)\u001b[0m\u001b[1;33m\u001b[0m\u001b[1;33m\u001b[0m\u001b[0m\n\u001b[0m",
      "\u001b[1;31mNameError\u001b[0m: name 'arun' is not defined"
     ]
    }
   ],
   "source": [
    "print(arun)"
   ]
  },
  {
   "cell_type": "code",
   "execution_count": 7,
   "id": "6c8dfcc8",
   "metadata": {},
   "outputs": [
    {
     "name": "stdout",
     "output_type": "stream",
     "text": [
      "10\n"
     ]
    }
   ],
   "source": [
    "print(10)"
   ]
  },
  {
   "cell_type": "code",
   "execution_count": 8,
   "id": "a91fea16",
   "metadata": {},
   "outputs": [
    {
     "name": "stdout",
     "output_type": "stream",
     "text": [
      "ok\n"
     ]
    }
   ],
   "source": [
    "print('ok')"
   ]
  },
  {
   "cell_type": "markdown",
   "id": "3bb5f422",
   "metadata": {},
   "source": [
    "#### string(text) should be marked in inverted comma"
   ]
  },
  {
   "cell_type": "markdown",
   "id": "60eeeb28",
   "metadata": {},
   "source": [
    "## Shortcut keys"
   ]
  },
  {
   "cell_type": "markdown",
   "id": "61ecc4e4",
   "metadata": {},
   "source": [
    "### Run-> Shift+enter"
   ]
  },
  {
   "cell_type": "markdown",
   "id": "b6f35de3",
   "metadata": {},
   "source": [
    "### add a cell above->a\n",
    "### add a cell below->b\n",
    "### delete a cell->x"
   ]
  },
  {
   "cell_type": "code",
   "execution_count": 10,
   "id": "adbf9028",
   "metadata": {},
   "outputs": [
    {
     "data": {
      "text/plain": [
       "int"
      ]
     },
     "execution_count": 10,
     "metadata": {},
     "output_type": "execute_result"
    }
   ],
   "source": [
    "x=10\n",
    "type(x)"
   ]
  },
  {
   "cell_type": "code",
   "execution_count": 11,
   "id": "0b4dcdf1",
   "metadata": {},
   "outputs": [
    {
     "data": {
      "text/plain": [
       "float"
      ]
     },
     "execution_count": 11,
     "metadata": {},
     "output_type": "execute_result"
    }
   ],
   "source": [
    "x=10.5\n",
    "type(x)"
   ]
  },
  {
   "cell_type": "code",
   "execution_count": 12,
   "id": "9615e3d5",
   "metadata": {},
   "outputs": [
    {
     "data": {
      "text/plain": [
       "str"
      ]
     },
     "execution_count": 12,
     "metadata": {},
     "output_type": "execute_result"
    }
   ],
   "source": [
    "course=\"data science\"\n",
    "type (course)"
   ]
  },
  {
   "cell_type": "markdown",
   "id": "26588023",
   "metadata": {},
   "source": [
    "## variable "
   ]
  },
  {
   "cell_type": "code",
   "execution_count": 16,
   "id": "20545369",
   "metadata": {},
   "outputs": [
    {
     "data": {
      "text/plain": [
       "('DS', 'BA', 'ML')"
      ]
     },
     "execution_count": 16,
     "metadata": {},
     "output_type": "execute_result"
    }
   ],
   "source": [
    "coursenames=\"DS\",\"BA\",\"ML\"\n",
    "coursenames"
   ]
  },
  {
   "cell_type": "code",
   "execution_count": 17,
   "id": "96755593",
   "metadata": {},
   "outputs": [
    {
     "ename": "SyntaxError",
     "evalue": "invalid syntax (3781394567.py, line 1)",
     "output_type": "error",
     "traceback": [
      "\u001b[1;36m  File \u001b[1;32m\"C:\\Users\\mitta\\AppData\\Local\\Temp\\ipykernel_20376\\3781394567.py\"\u001b[1;36m, line \u001b[1;32m1\u001b[0m\n\u001b[1;33m    course names=\"DS\",\"BA\",\"ML\"\u001b[0m\n\u001b[1;37m           ^\u001b[0m\n\u001b[1;31mSyntaxError\u001b[0m\u001b[1;31m:\u001b[0m invalid syntax\n"
     ]
    }
   ],
   "source": [
    "course names=\"DS\",\"BA\",\"ML\"\n",
    "course names"
   ]
  },
  {
   "cell_type": "code",
   "execution_count": 18,
   "id": "1afe9daa",
   "metadata": {},
   "outputs": [
    {
     "ename": "SyntaxError",
     "evalue": "cannot assign to operator (3858547134.py, line 1)",
     "output_type": "error",
     "traceback": [
      "\u001b[1;36m  File \u001b[1;32m\"C:\\Users\\mitta\\AppData\\Local\\Temp\\ipykernel_20376\\3858547134.py\"\u001b[1;36m, line \u001b[1;32m1\u001b[0m\n\u001b[1;33m    course-names=\"DS\",\"BA\",\"ML\"\u001b[0m\n\u001b[1;37m    ^\u001b[0m\n\u001b[1;31mSyntaxError\u001b[0m\u001b[1;31m:\u001b[0m cannot assign to operator\n"
     ]
    }
   ],
   "source": [
    "course-names=\"DS\",\"BA\",\"ML\"\n",
    "course-names"
   ]
  },
  {
   "cell_type": "code",
   "execution_count": 19,
   "id": "0d0a7f74",
   "metadata": {},
   "outputs": [
    {
     "data": {
      "text/plain": [
       "('DS', 'BA', 'ML')"
      ]
     },
     "execution_count": 19,
     "metadata": {},
     "output_type": "execute_result"
    }
   ],
   "source": [
    "course_names=\"DS\",\"BA\",\"ML\"\n",
    "course_names"
   ]
  },
  {
   "cell_type": "markdown",
   "id": "c0fb56cf",
   "metadata": {},
   "source": [
    "#### space is not allowed\n",
    "#### the only allowed special character is underscore"
   ]
  },
  {
   "cell_type": "code",
   "execution_count": 20,
   "id": "b7ce8132",
   "metadata": {},
   "outputs": [
    {
     "ename": "SyntaxError",
     "evalue": "invalid syntax (2968751027.py, line 1)",
     "output_type": "error",
     "traceback": [
      "\u001b[1;36m  File \u001b[1;32m\"C:\\Users\\mitta\\AppData\\Local\\Temp\\ipykernel_20376\\2968751027.py\"\u001b[1;36m, line \u001b[1;32m1\u001b[0m\n\u001b[1;33m    3coursenames=\"DS\",\"BA\",\"ML\"\u001b[0m\n\u001b[1;37m     ^\u001b[0m\n\u001b[1;31mSyntaxError\u001b[0m\u001b[1;31m:\u001b[0m invalid syntax\n"
     ]
    }
   ],
   "source": [
    "3coursenames=\"DS\",\"BA\",\"ML\"\n",
    "3coursenames"
   ]
  },
  {
   "cell_type": "code",
   "execution_count": 21,
   "id": "c7b975d3",
   "metadata": {},
   "outputs": [
    {
     "data": {
      "text/plain": [
       "('DS', 'BA', 'ML')"
      ]
     },
     "execution_count": 21,
     "metadata": {},
     "output_type": "execute_result"
    }
   ],
   "source": [
    "coursenames3=\"DS\",\"BA\",\"ML\"\n",
    "coursenames3"
   ]
  },
  {
   "cell_type": "code",
   "execution_count": 22,
   "id": "d3beaef6",
   "metadata": {},
   "outputs": [
    {
     "data": {
      "text/plain": [
       "('DS', 'BA', 'ML')"
      ]
     },
     "execution_count": 22,
     "metadata": {},
     "output_type": "execute_result"
    }
   ],
   "source": [
    "c3oursenames=\"DS\",\"BA\",\"ML\"\n",
    "c3oursenames"
   ]
  },
  {
   "cell_type": "markdown",
   "id": "f08c3f0a",
   "metadata": {},
   "source": [
    "#### variable name should not start with a number\n",
    "#### it should start with A-Z or a-z or _"
   ]
  },
  {
   "cell_type": "code",
   "execution_count": null,
   "id": "b92fe7fb",
   "metadata": {},
   "outputs": [],
   "source": []
  }
 ],
 "metadata": {
  "kernelspec": {
   "display_name": "Python 3 (ipykernel)",
   "language": "python",
   "name": "python3"
  },
  "language_info": {
   "codemirror_mode": {
    "name": "ipython",
    "version": 3
   },
   "file_extension": ".py",
   "mimetype": "text/x-python",
   "name": "python",
   "nbconvert_exporter": "python",
   "pygments_lexer": "ipython3",
   "version": "3.9.13"
  }
 },
 "nbformat": 4,
 "nbformat_minor": 5
}
