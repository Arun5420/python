{
 "cells": [
  {
   "cell_type": "markdown",
   "id": "7d09d9e7",
   "metadata": {},
   "source": [
    "# Starting With Algorithms (ML Algorithms)\n",
    "\n",
    "## Linear Regression\n",
    "\n",
    "### Cost of a pen is 5rs, => cost of 2 pens=2(5)=10rs\n",
    "### Cost of a pencil is 2rs, => cost of 3 pens and 2 pencils=3(5)+2(2)=19rs\n",
    "### Tea shop, want to fix price of tea, which will depend on prices of milk, sugar, tea powder. Hence price of tea is dependent variable and resr 3 are independent.\n",
    "### Only 1 dependent variable and any number of independent variables.\n",
    "### Find relation between dependent and independent variable.\n",
    "### If there is only 1 dependent and 1 independent variable then it is called as simple linear regression and when there is 1 dependent and many indep. variables it is called multiple linear regression.\n",
    "### Dependent variable in linear regression is always numerical(not categorical.) when it is categorical it is called classification problem.\n",
    "### Minimise the square of value of (true value-value that assumed function gives)\n",
    "### Best fit line/line of best fit will correspond to minimum square of error, minimum square of error=mean square error\n",
    "### 2nd method to calculate the error is to calculate mean absolute error\n",
    "### 3rd method to calculate the error is to calculate RMS\n",
    "### 4th method is using matrix R^2=1-(mean square error)/variance\n",
    "### R^2= how much variance is explained by the model, Model is good when R^2 close to 1.\n",
    "### Exploratory data analysis (did in last session) includes missing values & outliers."
   ]
  },
  {
   "cell_type": "code",
   "execution_count": 12,
   "id": "c7e37ac6",
   "metadata": {},
   "outputs": [],
   "source": [
    "import numpy as np\n",
    "import pandas as pd\n",
    "import seaborn as sns\n",
    "import matplotlib.pyplot as plt\n",
    "from sklearn.model_selection import train_test_split\n",
    "from sklearn.linear_model import LinearRegression"
   ]
  },
  {
   "cell_type": "code",
   "execution_count": 26,
   "id": "f110ab56",
   "metadata": {},
   "outputs": [],
   "source": [
    "car_df=pd.read_csv(\"https://raw.githubusercontent.com/Arun5420/Datasets/main/auto-mpg.csv\")"
   ]
  },
  {
   "cell_type": "code",
   "execution_count": 27,
   "id": "443a5da2",
   "metadata": {},
   "outputs": [],
   "source": [
    "car_df['horsepower']=car_df['horsepower'].replace('?',np.nan)\n",
    "car_df['horsepower']=car_df['horsepower'].astype(float)"
   ]
  },
  {
   "cell_type": "code",
   "execution_count": 28,
   "id": "95ef4f16",
   "metadata": {},
   "outputs": [
    {
     "data": {
      "text/plain": [
       "93.5"
      ]
     },
     "execution_count": 28,
     "metadata": {},
     "output_type": "execute_result"
    }
   ],
   "source": [
    "median=car_df['horsepower'].median()\n",
    "median"
   ]
  },
  {
   "cell_type": "code",
   "execution_count": 29,
   "id": "406a01f4",
   "metadata": {},
   "outputs": [],
   "source": [
    "car_df['horsepower'].replace(np.nan,median,inplace=True)"
   ]
  },
  {
   "cell_type": "code",
   "execution_count": 30,
   "id": "79843f79",
   "metadata": {},
   "outputs": [
    {
     "data": {
      "text/plain": [
       "mpg             float64\n",
       "cylinders         int64\n",
       "displacement    float64\n",
       "horsepower      float64\n",
       "weight            int64\n",
       "acceleration    float64\n",
       "model year        int64\n",
       "origin            int64\n",
       "car name         object\n",
       "dtype: object"
      ]
     },
     "execution_count": 30,
     "metadata": {},
     "output_type": "execute_result"
    }
   ],
   "source": [
    "car_df.dtypes"
   ]
  },
  {
   "cell_type": "markdown",
   "id": "581ea577",
   "metadata": {},
   "source": [
    "# Load and review data"
   ]
  },
  {
   "cell_type": "markdown",
   "id": "04fd0685",
   "metadata": {},
   "source": [
    "# Split Data"
   ]
  },
  {
   "cell_type": "code",
   "execution_count": 43,
   "id": "c9289b78",
   "metadata": {},
   "outputs": [],
   "source": [
    "## lets build our linear model\n",
    "## independent variables\n",
    "X= car_df.drop(['mpg'], axis=1)\n",
    "X= car_df.drop(['car name'], axis=1)\n",
    "\n",
    "## the dependent variable\n",
    "y=car_df[['mpg']]"
   ]
  },
  {
   "cell_type": "code",
   "execution_count": 52,
   "id": "b549f9ba",
   "metadata": {},
   "outputs": [],
   "source": [
    "# Split X and Y into training and test set in 70:30 ratio\n",
    "\n",
    "X_train, X_test, y_train, y_test = train_test_split(X,y, test_size=0.30, random_state=1)"
   ]
  },
  {
   "cell_type": "markdown",
   "id": "ebc93892",
   "metadata": {},
   "source": [
    "# Fit linear Model"
   ]
  },
  {
   "cell_type": "code",
   "execution_count": 53,
   "id": "497bfa5e",
   "metadata": {},
   "outputs": [
    {
     "data": {
      "text/plain": [
       "LinearRegression()"
      ]
     },
     "execution_count": 53,
     "metadata": {},
     "output_type": "execute_result"
    }
   ],
   "source": [
    "model_1= LinearRegression()\n",
    "model_1.fit(X_train, y_train)"
   ]
  },
  {
   "cell_type": "markdown",
   "id": "06573c00",
   "metadata": {},
   "source": [
    "### Here are the coefficients for each variable and the intercept\n",
    "### The score(R^2) for in-sample and out of range"
   ]
  },
  {
   "cell_type": "code",
   "execution_count": 54,
   "id": "24119d3a",
   "metadata": {},
   "outputs": [
    {
     "data": {
      "text/plain": [
       "1.0"
      ]
     },
     "execution_count": 54,
     "metadata": {},
     "output_type": "execute_result"
    }
   ],
   "source": [
    "model_1.score(X_train, y_train)"
   ]
  },
  {
   "cell_type": "code",
   "execution_count": 55,
   "id": "350203bd",
   "metadata": {},
   "outputs": [
    {
     "data": {
      "text/plain": [
       "1.0"
      ]
     },
     "execution_count": 55,
     "metadata": {},
     "output_type": "execute_result"
    }
   ],
   "source": [
    "# out of sample score (R^2)\n",
    "model_1.score(X_test, y_test)"
   ]
  },
  {
   "cell_type": "code",
   "execution_count": null,
   "id": "29579609",
   "metadata": {},
   "outputs": [],
   "source": [
    "https://raw.githubusercontent.com/Premalatha-success/Datasets/main/concrete.csv"
   ]
  }
 ],
 "metadata": {
  "kernelspec": {
   "display_name": "Python 3 (ipykernel)",
   "language": "python",
   "name": "python3"
  },
  "language_info": {
   "codemirror_mode": {
    "name": "ipython",
    "version": 3
   },
   "file_extension": ".py",
   "mimetype": "text/x-python",
   "name": "python",
   "nbconvert_exporter": "python",
   "pygments_lexer": "ipython3",
   "version": "3.9.13"
  }
 },
 "nbformat": 4,
 "nbformat_minor": 5
}
